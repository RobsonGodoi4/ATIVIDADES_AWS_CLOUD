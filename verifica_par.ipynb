{
  "nbformat": 4,
  "nbformat_minor": 0,
  "metadata": {
    "colab": {
      "provenance": [],
      "authorship_tag": "ABX9TyMSXduhrhi8+dSL0u0DuJBj",
      "include_colab_link": true
    },
    "kernelspec": {
      "name": "python3",
      "display_name": "Python 3"
    },
    "language_info": {
      "name": "python"
    }
  },
  "cells": [
    {
      "cell_type": "markdown",
      "metadata": {
        "id": "view-in-github",
        "colab_type": "text"
      },
      "source": [
        "<a href=\"https://colab.research.google.com/github/RobsonGodoi4/ATIVIDADES_AWS_CLOUD/blob/main/verifica_par.ipynb\" target=\"_parent\"><img src=\"https://colab.research.google.com/assets/colab-badge.svg\" alt=\"Open In Colab\"/></a>"
      ]
    },
    {
      "cell_type": "code",
      "execution_count": null,
      "metadata": {
        "colab": {
          "base_uri": "https://localhost:8080/"
        },
        "id": "iRSq17hnJFdq",
        "outputId": "f1e15ef5-5cef-4f1f-832c-6c075531205f"
      },
      "outputs": [
        {
          "output_type": "stream",
          "name": "stdout",
          "text": [
            "\n",
            "Digite um número: \n",
            "5665\n",
            "O número é ímpar!\n",
            "\n",
            "Digite um número: \n",
            "66\n",
            "\n",
            "O número é par!\n",
            "\n",
            "Digite um número: \n",
            "\n",
            "Digite apenas número inteiros!!\n",
            "\n",
            "Digite um número: \n",
            "Digite apenas número inteiros!!\n",
            "\n",
            "Digite um número: \n"
          ]
        }
      ],
      "source": [
        "def verifica_par():\n",
        "  numero = False\n",
        "  while numero == False:\n",
        "    try:\n",
        "      print(\"\\nDigite um número: \")\n",
        "      num = int(input())\n",
        "      if(num%2 == 0):\n",
        "        print(\"\\nO número é par!\")\n",
        "      else:\n",
        "        print(\"O número é ímpar!\")\n",
        "    except:\n",
        "      print(\"Digite apenas número inteiros!!\")\n",
        "verifica_par()"
      ]
    },
    {
      "cell_type": "code",
      "source": [],
      "metadata": {
        "id": "CZ_1pI6sXRsD"
      },
      "execution_count": null,
      "outputs": []
    }
  ]
}