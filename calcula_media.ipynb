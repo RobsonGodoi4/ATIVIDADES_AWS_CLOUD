{
  "nbformat": 4,
  "nbformat_minor": 0,
  "metadata": {
    "colab": {
      "provenance": [],
      "authorship_tag": "ABX9TyMx3ykhOO4C+YTfp5pRWcEB",
      "include_colab_link": true
    },
    "kernelspec": {
      "name": "python3",
      "display_name": "Python 3"
    },
    "language_info": {
      "name": "python"
    }
  },
  "cells": [
    {
      "cell_type": "markdown",
      "metadata": {
        "id": "view-in-github",
        "colab_type": "text"
      },
      "source": [
        "<a href=\"https://colab.research.google.com/github/RobsonGodoi4/ATIVIDADES_AWS_CLOUD/blob/main/calcula_media.ipynb\" target=\"_parent\"><img src=\"https://colab.research.google.com/assets/colab-badge.svg\" alt=\"Open In Colab\"/></a>"
      ]
    },
    {
      "cell_type": "code",
      "execution_count": null,
      "metadata": {
        "id": "E2FQGwwVYiKh"
      },
      "outputs": [],
      "source": [
        "def calcula_media():\n",
        "  valor_correto=False\n",
        "  while(valor_correto==False):\n",
        "    try:\n",
        "\n",
        "      print(\"\\nDigite o nome do aluno: \")\n",
        "      nome = input()\n",
        "      print(\"\\nDigite a primeira nota: \")\n",
        "      n1 = float(input())\n",
        "      print(\"\\nDigite a segunda nota: \")\n",
        "      n2 = float(input())\n",
        "      print(\"\\nDigite a terceira nota: \")\n",
        "      n3 = float(input())\n",
        "\n",
        "      media = (n1+n2+n3)/3\n",
        "\n",
        "      if media >= 6:\n",
        "        print(\"\\n{}, sua média bimestral ficou {:.1f} e você foi APROVADO(a)!\".format(nome, media))\n",
        "      elif media >= 4 and media < 6:\n",
        "        print(\"\\n{}, sua média bimestral ficou {:.1f} e você irá para prova FINAL.\".format(nome, media))\n",
        "      else:\n",
        "        print(\"\\n{}, sua média bimestral ficou {:.1f} e você foi REPROVADO(a)!.\".format(nome, media))\n",
        "\n",
        "      valor_correto==True\n",
        "    except:\n",
        "      print(\"Caractere inválido. Tente novamente.\")\n",
        "\n",
        "\n",
        "calcula_media()"
      ]
    }
  ]
}